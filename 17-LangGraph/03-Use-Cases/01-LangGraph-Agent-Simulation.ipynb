{
  "cells": [
    {
      "cell_type": "markdown",
      "id": "635d8ebb",
      "metadata": {},
      "source": [
        "# LangGraph Agent Simulation\n",
        "\n",
        "- Author: [Youngjun Cho](https://github.com/choincnp)\n",
        "- Design: \n",
        "- Peer Review: \n",
        "- This is a part of [LangChain Open Tutorial](https://github.com/LangChain-OpenTutorial/LangChain-OpenTutorial)\n",
        "\n",
        "[![Open in Colab](https://colab.research.google.com/assets/colab-badge.svg)](https://colab.research.google.com/github/LangChain-OpenTutorial/LangChain-OpenTutorial/blob/main/99-TEMPLATE/00-BASE-TEMPLATE-EXAMPLE.ipynb) [![Open in GitHub](https://img.shields.io/badge/Open%20in%20GitHub-181717?style=flat-square&logo=github&logoColor=white)](https://github.com/LangChain-OpenTutorial/LangChain-OpenTutorial/blob/main/99-TEMPLATE/00-BASE-TEMPLATE-EXAMPLE.ipynb)\n",
        "\n",
        "## Overview\n",
        "\n",
        "...\n",
        "\n",
        "### Table of Contents\n",
        "\n",
        "- [Overview](#overview)\n",
        "- [Environment Setup](#environment-setup)\n",
        "- [...](#...)\n",
        "\n",
        "### References\n",
        "\n",
        "- [LangChain](https://blog.langchain.dev/)\n",
        "- [...](...)\n",
        "----"
      ]
    },
    {
      "cell_type": "markdown",
      "id": "c6c7aba4",
      "metadata": {},
      "source": [
        "## Environment Setup\n",
        "\n",
        "Setting up your environment is the first step. See the [Environment Setup](https://wikidocs.net/257836) guide for more details.\n",
        "\n",
        "\n",
        "**[Note]**\n",
        "\n",
        "The langchain-opentutorial is a package of easy-to-use environment setup guidance, useful functions and utilities for tutorials.\n",
        "Check out the  [`langchain-opentutorial`](https://github.com/LangChain-OpenTutorial/langchain-opentutorial-pypi) for more details."
      ]
    },
    {
      "cell_type": "code",
      "execution_count": 1,
      "id": "21943adb",
      "metadata": {},
      "outputs": [],
      "source": [
        "%%capture --no-stderr\n",
        "%pip install langchain-opentutorial"
      ]
    },
    {
      "cell_type": "code",
      "execution_count": 2,
      "id": "f25ec196",
      "metadata": {},
      "outputs": [],
      "source": [
        "# Install required packages\n",
        "from langchain_opentutorial import package\n",
        "\n",
        "package.install(\n",
        "    [\n",
        "        \"langsmith\",\n",
        "        \"langchain\",\n",
        "        \"langchain_core\",\n",
        "        \"langchain-anthropic\",\n",
        "        \"langchain_community\",\n",
        "        \"langchain_text_splitters\",\n",
        "        \"langchain_openai\",\n",
        "        \"langgraph\"\n",
        "        \"langchain-teddynote\"\n",
        "    ],\n",
        "    verbose=False,\n",
        "    upgrade=False,\n",
        ")"
      ]
    },
    {
      "cell_type": "markdown",
      "id": "690a9ae0",
      "metadata": {},
      "source": [
        "You can set API keys in a `.env` file or set them manually.\n",
        "\n",
        "[Note] If you’re not using the `.env` file, no worries! Just enter the keys directly in the cell below, and you’re good to go."
      ]
    },
    {
      "cell_type": "code",
      "execution_count": 3,
      "id": "327c2c7c",
      "metadata": {},
      "outputs": [],
      "source": [
        "from dotenv import load_dotenv\n",
        "from langchain_opentutorial import set_env\n",
        "\n",
        "# Attempt to load environment variables from a .env file; if unsuccessful, set them manually.\n",
        "if not load_dotenv():\n",
        "    set_env(\n",
        "        {\n",
        "            \"OPENAI_API_KEY\": \"\",\n",
        "            \"LANGCHAIN_API_KEY\": \"\",\n",
        "            \"LANGCHAIN_TRACING_V2\": \"true\",\n",
        "            \"LANGCHAIN_ENDPOINT\": \"https://api.smith.langchain.com\",\n",
        "            \"LANGCHAIN_PROJECT\": \"\",  # set the project name same as the title\n",
        "        }\n",
        "    )"
      ]
    },
    {
      "cell_type": "markdown",
      "id": "aa00c3f4",
      "metadata": {},
      "source": [
        "## Agent Conversation Simulation (Customer Support Scenario)\n",
        "\n",
        "When building a chatbot, such as a customer support assistant, evaluating its performance can be challenging. Manually interacting with the chatbot for each code change is time-consuming.\n",
        "\n",
        "One way to make the evaluation process easier and more reproducible is simulating user interactions.\n",
        "\n",
        "Using LangGraph, setting this up is straightforward.\n",
        "\n",
        "Below is an example of creating a \"Simulated User\" to simulate conversations.\n",
        "\n",
        "![](./assets/01-langgraph-agent-simulation.png)"
      ]
    },
    {
      "cell_type": "markdown",
      "id": "7fe642f0",
      "metadata": {},
      "source": [
        "## Define State"
      ]
    },
    {
      "cell_type": "code",
      "execution_count": 4,
      "id": "4803d81c",
      "metadata": {},
      "outputs": [],
      "source": [
        "from langgraph.graph.message import add_messages\n",
        "from typing import Annotated\n",
        "from typing_extensions import TypedDict\n",
        "\n",
        "# Define the state\n",
        "class State(TypedDict):\n",
        "    messages: Annotated[list, add_messages]  # Conversation messages between user and agent"
      ]
    },
    {
      "cell_type": "markdown",
      "id": "5e790265",
      "metadata": {},
      "source": [
        "## Define Roles: Agent and Customer\n",
        "### Agent Role\n",
        "Define the chatbot role acting as the agent in the simulation.\n",
        "\n",
        "[ **Note** ]  \n",
        "- The implementation inside `call_chatbot` is configurable, and the internal model used can be replaced with an Agent.\n",
        "- `call_chatbot` takes user messages as input and generates responses as a customer support agent.\n",
        "\n",
        "*고객 지원 시나리오에서의 대화 응답 생성에 활용될 수 있습니다.*"
      ]
    },
    {
      "cell_type": "code",
      "execution_count": 5,
      "id": "147de66f",
      "metadata": {},
      "outputs": [],
      "source": [
        "from typing import List\n",
        "from langchain_openai import ChatOpenAI\n",
        "from langchain_core.prompts import ChatPromptTemplate, MessagesPlaceholder\n",
        "from langchain_core.messages import HumanMessage, AIMessage, BaseMessage\n",
        "from langchain_core.output_parsers import StrOutputParser\n",
        "\n",
        "def call_chatbot(messages: List[BaseMessage]) -> dict:\n",
        "    # LangChain ChatOpenAI model can be replaced with an Agent\n",
        "    prompt = ChatPromptTemplate.from_messages(\n",
        "        [\n",
        "            (\n",
        "                \"system\",\n",
        "                \"You are a customer support agent for an airline. Answer in Korean.\",\n",
        "            ),\n",
        "            MessagesPlaceholder(variable_name=\"messages\"),\n",
        "        ]\n",
        "    )\n",
        "    model = ChatOpenAI(model=\"gpt-4o-mini\", temperature=0.6)\n",
        "    chain = prompt | model | StrOutputParser()\n",
        "    return chain.invoke({\"messages\": messages})"
      ]
    },
    {
      "cell_type": "markdown",
      "id": "a7ba6937",
      "metadata": {},
      "source": [
        "`call_chatbot` processes user inputs and generates chatbot responses."
      ]
    },
    {
      "cell_type": "code",
      "execution_count": 6,
      "id": "78036b33",
      "metadata": {},
      "outputs": [
        {
          "data": {
            "text/plain": [
              "'안녕하세요! 무엇을 도와드릴까요?'"
            ]
          },
          "execution_count": 6,
          "metadata": {},
          "output_type": "execute_result"
        }
      ],
      "source": [
        "call_chatbot([(\"user\", \"Hello?\")])"
      ]
    },
    {
      "cell_type": "markdown",
      "id": "8d8160e5",
      "metadata": {},
      "source": [
        "## Simulated User Role\n",
        "Define the role of the simulated customer. This simulates conversations in a customer support scenario.\n",
        "\n",
        "The system prompt sets up the interaction between the customer and the support agent, with detailed user instructions defining the scenario."
      ]
    },
    {
      "cell_type": "code",
      "execution_count": 7,
      "id": "58e597bb",
      "metadata": {},
      "outputs": [],
      "source": [
        "from langchain_core.prompts import ChatPromptTemplate, MessagesPlaceholder\n",
        "\n",
        "def create_scenario(name: str, instructions: str):\n",
        "    # Define system prompt (modifiable as needed)\n",
        "    system_prompt_template = \"\"\"You are a customer of an airline company. \\\n",
        "You are interacting with a user who is a customer support person. \\\n",
        "\n",
        "Your name is {name}.\n",
        "\n",
        "# Instructions:\n",
        "{instructions}\n",
        "\n",
        "[IMPORTANT] \n",
        "- When you are finished with the conversation, respond with a single word 'FINISHED'\n",
        "\"\"\"\n",
        "\n",
        "    # Combine conversation messages and system prompt into a chat prompt template\n",
        "    prompt = ChatPromptTemplate.from_messages(\n",
        "        [\n",
        "            (\"system\", system_prompt_template),\n",
        "            MessagesPlaceholder(variable_name=\"messages\"),\n",
        "        ]\n",
        "    )\n",
        "\n",
        "    # Partially fill the prompt with specific user name and instructions\n",
        "    prompt = prompt.partial(name=name, instructions=instructions)\n",
        "    return prompt"
      ]
    },
    {
      "cell_type": "markdown",
      "id": "c6919a7c",
      "metadata": {},
      "source": [
        "가상의 시나리오를 생성합니다. 이 가상의 시나리오는 고객의 입장에서의 시나리오입니다.\n",
        "\n",
        "In here, we'll create a scenario for requesting a refund"
      ]
    },
    {
      "cell_type": "code",
      "execution_count": 8,
      "id": "b5c60485",
      "metadata": {},
      "outputs": [
        {
          "name": "stdout",
          "output_type": "stream",
          "text": [
            "================================\u001b[1m System Message \u001b[0m================================\n",
            "\n",
            "You are a customer of an airline company. You are interacting with a user who is a customer support person. \n",
            "Your name is \u001b[33;1m\u001b[1;3m{name}\u001b[0m.\n",
            "\n",
            "# Instructions:\n",
            "\u001b[33;1m\u001b[1;3m{instructions}\u001b[0m\n",
            "\n",
            "[IMPORTANT] \n",
            "- When you are finished with the conversation, respond with a single word 'FINISHED'\n",
            "\n",
            "\n",
            "=============================\u001b[1m Messages Placeholder \u001b[0m=============================\n",
            "\n",
            "\u001b[33;1m\u001b[1;3m{messages}\u001b[0m\n"
          ]
        }
      ],
      "source": [
        "# Define user instructions\n",
        "instructions = \"\"\"You are trying to get a refund for the trip you took to Jeju Island. \\\n",
        "You want them to give you ALL the money back. This trip happened last year.\"\"\"\n",
        "\n",
        "# Define user name\n",
        "name = \"Teddy\"\n",
        "\n",
        "create_scenario(name, instructions).pretty_print()"
      ]
    },
    {
      "cell_type": "code",
      "execution_count": 9,
      "id": "125a97d8",
      "metadata": {},
      "outputs": [],
      "source": [
        "# Initialize the chat model\n",
        "model = ChatOpenAI(model=\"gpt-4o-mini\", temperature=0.6)\n",
        "\n",
        "# Generate simulated user conversation\n",
        "simulated_user = create_scenario(name, instructions) | model | StrOutputParser()"
      ]
    },
    {
      "cell_type": "markdown",
      "id": "472f34f1",
      "metadata": {},
      "source": [
        "Use the generated `simulated_user` to send messages to the simulated user."
      ]
    },
    {
      "cell_type": "code",
      "execution_count": 10,
      "id": "e6057e8b",
      "metadata": {},
      "outputs": [
        {
          "data": {
            "text/plain": [
              "'Hi there! I’m Teddy, and I’m looking to get a refund for a trip I took to Jeju Island last year. Can you assist me with that?'"
            ]
          },
          "execution_count": 10,
          "metadata": {},
          "output_type": "execute_result"
        }
      ],
      "source": [
        "from langchain_core.messages import HumanMessage\n",
        "\n",
        "# Send a message to the simulated user (agent -> customer)\n",
        "messages = [HumanMessage(content=\"Hello? How can I help you?\")]\n",
        "simulated_user.invoke({\"messages\": messages})"
      ]
    },
    {
      "cell_type": "markdown",
      "id": "05e49ab6",
      "metadata": {},
      "source": [
        "## Define Agent Simulation\n",
        "\n",
        "아래의 코드는 시뮬레이션을 실행하기 위한 LangGraph 워크플로우를 생성합니다. \n",
        "\n",
        "Here are the main components:\n",
        "1. Two nodes for the simulated user and the chatbot.\n",
        "2. A graph with conditional stop criteria."
      ]
    },
    {
      "cell_type": "markdown",
      "id": "ea67216d",
      "metadata": {},
      "source": [
        "### Node Definition\n",
        "First, define nodes in the graph. These nodes take a list of messages as input and return a list of additional messages to be added to the state. They wrap around the chatbot and the simulated user.\n",
        "\n",
        "Note:\n",
        "The tricky part here is distinguishing which message is from which entity. Since both the chatbot and the simulated user rely on LLMs, both will respond with AI messages. Our state will alternate between human and AI messages, which requires logic in one of the nodes to swap roles between AI and human.\n",
        "\n",
        "In this example, HumanMessages are assumed to come from the simulated user. This means the simulated user node needs logic to exchange AI and human roles."
      ]
    },
    {
      "cell_type": "code",
      "execution_count": 11,
      "id": "57790f51",
      "metadata": {},
      "outputs": [],
      "source": [
        "from langchain_core.messages import AIMessage\n",
        "\n",
        "# Define the agent role\n",
        "def ai_assistant_node(messages):\n",
        "    # Call chatbot response\n",
        "    ai_response = call_chatbot(messages)\n",
        "\n",
        "    # Return the AI assistant's response\n",
        "    return {\"messages\": [(\"assistant\", ai_response)]}"
      ]
    },
    {
      "cell_type": "markdown",
      "id": "14962527",
      "metadata": {},
      "source": [
        "Calling the Agent Node (여기도 이상)"
      ]
    },
    {
      "cell_type": "code",
      "execution_count": 12,
      "id": "7bf7758c",
      "metadata": {},
      "outputs": [
        {
          "data": {
            "text/plain": [
              "{'messages': [('assistant',\n",
              "   '환불을 받으시려면 다음 단계를 따라 주시기 바랍니다:\\n\\n1. **구매 경로 확인**: 항공권을 어떻게 구매하셨는지 확인하세요. 웹사이트, 모바일 앱, 여행사 등 구매 경로에 따라 환불 절차가 다를 수 있습니다.\\n\\n2. **환불 정책 확인**: 항공사의 환불 정책을 확인하세요. 일반적으로 비행기가 취소되거나 일정 변경이 있을 경우 환불이 가능합니다.\\n\\n3. **온라인 환불 신청**: 항공사의 공식 웹사이트에 로그인한 후, 예약 내역에서 환불 요청을 할 수 있습니다.\\n\\n4. **고객 서비스에 문의**: 웹사이트에서 환불이 불가능한 경우, 고객 서비스 센터에 전화 또는 이메일로 문의하여 도움을 요청하실 수 있습니다.\\n\\n5. **필요 서류 준비**: 환불 요청 시 필요한 서류(예: 예약 번호, 신분증 사본 등)를 준비해 주세요.\\n\\n환불 처리에는 시간이 걸릴 수 있으니 참고하시기 바랍니다. 추가로 궁금한 점이 있으시면 언제든지 문의해 주세요!')]}"
            ]
          },
          "execution_count": 12,
          "metadata": {},
          "output_type": "execute_result"
        }
      ],
      "source": [
        "ai_assistant_node(\n",
        "    [\n",
        "        (\"user\", \"Hello?\"),\n",
        "        (\"assistant\", \"Hello! How can I help you?\"),\n",
        "        (\"user\", \"How do I get a refund?\"),\n",
        "    ]\n",
        ")"
      ]
    },
    {
      "cell_type": "markdown",
      "id": "fd265209",
      "metadata": {},
      "source": [
        "Next, define a node for the user we simulated.\n",
        "\n",
        "[ **Note** ]  \n",
        "- This process includes some minor logic to swap message roles."
      ]
    },
    {
      "cell_type": "code",
      "execution_count": 13,
      "id": "d894a8ff",
      "metadata": {},
      "outputs": [],
      "source": [
        "def _swap_roles(messages):\n",
        "    # Swap roles: Convert AI -> Human and Human -> AI in the simulated user step\n",
        "    new_messages = []\n",
        "    for m in messages:\n",
        "        if isinstance(m, AIMessage):\n",
        "            # If it's an AIMessage, convert to HumanMessage\n",
        "            new_messages.append(HumanMessage(content=m.content))\n",
        "        else:\n",
        "            # If it's a HumanMessage, convert to AIMessage\n",
        "            new_messages.append(AIMessage(content=m.content))\n",
        "    return new_messages\n",
        "\n",
        "\n",
        "# Define the AI Assistant Node\n",
        "def ai_assistant_node(state: State):\n",
        "    # Call the assistant response\n",
        "    ai_response = call_chatbot(state[\"messages\"])\n",
        "\n",
        "    # Return the assistant's response\n",
        "    return {\"messages\": [(\"assistant\", ai_response)]}\n",
        "\n",
        "\n",
        "# Define the Simulated User Node\n",
        "def simulated_user_node(state: State):\n",
        "    # Swap message roles: AI -> Human and Human -> AI\n",
        "    new_messages = _swap_roles(state[\"messages\"])\n",
        "\n",
        "    # Call the simulated user\n",
        "    response = simulated_user.invoke({\"messages\": new_messages})\n",
        "    return {\"messages\": [(\"user\", response)]}"
      ]
    },
    {
      "cell_type": "markdown",
      "id": "293c5934",
      "metadata": {},
      "source": [
        "### Edge Definition\n",
        "Now define the logic for edges. The primary logic happens after the simulated user has completed their task, leading to one of two outcomes:\n",
        "\n",
        "- Continue by calling the support bot (\"continue\").\n",
        "- End the conversation (\"end\").\n",
        "\n",
        "When does the conversation end?\n",
        "\n",
        "The simulated user responds with FINISHED (as specified in the system prompt).\n",
        "The conversation exceeds six messages (an arbitrary limit to keep this example brief).\n",
        "The should_continue function takes a list of messages as input and returns \"end\" if the list exceeds six messages or the last message content is FINISHED. Otherwise, it returns \"continue\" to proceed."
      ]
    },
    {
      "cell_type": "code",
      "execution_count": 14,
      "id": "3330c43a",
      "metadata": {},
      "outputs": [],
      "source": [
        "def should_continue(state: State):\n",
        "    # Return 'end' if the list of messages exceeds 6\n",
        "    if len(state[\"messages\"]) > 6:\n",
        "        return \"end\"\n",
        "    # Return 'end' if the last message content is 'FINISHED'\n",
        "    elif state[\"messages\"][-1].content == \"FINISHED\":\n",
        "        return \"end\"\n",
        "    # Otherwise, return 'continue'\n",
        "    else:\n",
        "        return \"continue\""
      ]
    },
    {
      "cell_type": "markdown",
      "id": "ddc77722",
      "metadata": {},
      "source": [
        "### Graph Definition\n",
        "Now define the graph for setting up the simulation.\n",
        "\n",
        "The MessageGraph class is used to structure and simulate interactions between the chatbot and the simulated user."
      ]
    },
    {
      "cell_type": "code",
      "execution_count": 15,
      "id": "ed1c72da",
      "metadata": {},
      "outputs": [],
      "source": [
        "from langgraph.graph import END, StateGraph\n",
        "\n",
        "# Create StateGraph instance\n",
        "graph_builder = StateGraph(State)\n",
        "\n",
        "# Define nodes\n",
        "graph_builder.add_node(\"simulated_user\", simulated_user_node)\n",
        "graph_builder.add_node(\"ai_assistant\", ai_assistant_node)\n",
        "\n",
        "# Define edges (Chatbot -> Simulated User)\n",
        "graph_builder.add_edge(\"ai_assistant\", \"simulated_user\")\n",
        "\n",
        "# Define conditional edges\n",
        "graph_builder.add_conditional_edges(\n",
        "    \"simulated_user\",\n",
        "    should_continue,\n",
        "    {\n",
        "        \"end\": END,  # Stop simulation when end condition is met\n",
        "        \"continue\": \"ai_assistant\",  # Otherwise, pass messages to the assistant node\n",
        "    },\n",
        ")\n",
        "\n",
        "# Set entry point\n",
        "graph_builder.set_entry_point(\"ai_assistant\")\n",
        "\n",
        "# Compile the graph\n",
        "simulation = graph_builder.compile()"
      ]
    },
    {
      "cell_type": "code",
      "execution_count": 16,
      "id": "ccf6fee4",
      "metadata": {},
      "outputs": [
        {
          "data": {
            "image/png": "[encoded data removed]",
            "text/plain": [
              "<IPython.core.display.Image object>"
            ]
          },
          "metadata": {},
          "output_type": "display_data"
        }
      ],
      "source": [
        "import random\n",
        "from IPython.display import Image, display\n",
        "from langgraph.graph.state import CompiledStateGraph\n",
        "from dataclasses import dataclass\n",
        "\n",
        "\n",
        "@dataclass\n",
        "class NodeStyles:\n",
        "    default: str = (\n",
        "        \"fill:#45C4B0, fill-opacity:0.3, color:#23260F, stroke:#45C4B0, stroke-width:1px, font-weight:bold, line-height:1.2\"  # 기본 색상\n",
        "    )\n",
        "    first: str = (\n",
        "        \"fill:#45C4B0, fill-opacity:0.1, color:#23260F, stroke:#45C4B0, stroke-width:1px, font-weight:normal, font-style:italic, stroke-dasharray:2,2\"  # 점선 테두리\n",
        "    )\n",
        "    last: str = (\n",
        "        \"fill:#45C4B0, fill-opacity:1, color:#000000, stroke:#45C4B0, stroke-width:1px, font-weight:normal, font-style:italic, stroke-dasharray:2,2\"  # 점선 테두리\n",
        "    )\n",
        "\n",
        "\n",
        "def visualize_graph(graph, xray=False):\n",
        "    \"\"\"\n",
        "    CompiledStateGraph 객체를 시각화하여 표시합니다.\n",
        "\n",
        "    이 함수는 주어진 그래프 객체가 CompiledStateGraph 인스턴스인 경우\n",
        "    해당 그래프를 Mermaid 형식의 PNG 이미지로 변환하여 표시합니다.\n",
        "\n",
        "    Args:\n",
        "        graph: 시각화할 그래프 객체. CompiledStateGraph 인스턴스여야 합니다.\n",
        "\n",
        "    Returns:\n",
        "        None\n",
        "\n",
        "    Raises:\n",
        "        Exception: 그래프 시각화 과정에서 오류가 발생한 경우 예외를 출력합니다.\n",
        "    \"\"\"\n",
        "    try:\n",
        "        # 그래프 시각화\n",
        "        if isinstance(graph, CompiledStateGraph):\n",
        "            display(\n",
        "                Image(\n",
        "                    graph.get_graph(xray=xray).draw_mermaid_png(\n",
        "                        background_color=\"white\",\n",
        "                        node_colors=NodeStyles(),\n",
        "                    )\n",
        "                )\n",
        "            )\n",
        "    except Exception as e:\n",
        "        print(f\"[ERROR] Visualize Graph Error: {e}\")\n",
        "\n",
        "\n",
        "def generate_random_hash():\n",
        "    return f\"{random.randint(0, 0xffffff):06x}\"\n",
        "\n",
        "visualize_graph(simulation)"
      ]
    },
    {
      "cell_type": "markdown",
      "id": "fa70d918",
      "metadata": {},
      "source": [
        "### Start the Simulation\n",
        "\n",
        "Now, you can evaluate the chatbot! You can call it with empty messages to simulate the chatbot initiating the conversation.\n",
        "\n",
        "시뮬레이션에서 스트리밍되는 데이터 청크를 순회하며, 최종 종료 청크(`END`)를 제외한 모든 이벤트를 출력합니다. "
      ]
    },
    {
      "cell_type": "code",
      "execution_count": 17,
      "id": "307e2242",
      "metadata": {},
      "outputs": [
        {
          "ename": "ModuleNotFoundError",
          "evalue": "No module named 'langchain_teddynote'",
          "output_type": "error",
          "traceback": [
            "\u001b[1;31m---------------------------------------------------------------------------\u001b[0m",
            "\u001b[1;31mModuleNotFoundError\u001b[0m                       Traceback (most recent call last)",
            "Cell \u001b[1;32mIn[17], line 2\u001b[0m\n\u001b[0;32m      1\u001b[0m \u001b[38;5;28;01mfrom\u001b[39;00m\u001b[38;5;250m \u001b[39m\u001b[38;5;21;01mlangchain_core\u001b[39;00m\u001b[38;5;21;01m.\u001b[39;00m\u001b[38;5;21;01mrunnables\u001b[39;00m\u001b[38;5;250m \u001b[39m\u001b[38;5;28;01mimport\u001b[39;00m RunnableConfig\n\u001b[1;32m----> 2\u001b[0m \u001b[38;5;28;01mfrom\u001b[39;00m\u001b[38;5;250m \u001b[39m\u001b[38;5;21;01mlangchain_teddynote\u001b[39;00m\u001b[38;5;21;01m.\u001b[39;00m\u001b[38;5;21;01mmessages\u001b[39;00m\u001b[38;5;250m \u001b[39m\u001b[38;5;28;01mimport\u001b[39;00m stream_graph, random_uuid\n\u001b[0;32m      4\u001b[0m \u001b[38;5;66;03m# Configure (recursion limit, thread_id)\u001b[39;00m\n\u001b[0;32m      5\u001b[0m config \u001b[38;5;241m=\u001b[39m RunnableConfig(recursion_limit\u001b[38;5;241m=\u001b[39m\u001b[38;5;241m10\u001b[39m, configurable\u001b[38;5;241m=\u001b[39m{\u001b[38;5;124m\"\u001b[39m\u001b[38;5;124mthread_id\u001b[39m\u001b[38;5;124m\"\u001b[39m: random_uuid()})\n",
            "\u001b[1;31mModuleNotFoundError\u001b[0m: No module named 'langchain_teddynote'"
          ]
        }
      ],
      "source": [
        "from langchain_core.runnables import RunnableConfig\n",
        "from langchain_teddynote.messages import stream_graph, random_uuid\n",
        "\n",
        "# Configure (recursion limit, thread_id)\n",
        "config = RunnableConfig(recursion_limit=10, configurable={\"thread_id\": random_uuid()})\n",
        "\n",
        "# Define input messages\n",
        "inputs = {\n",
        "    \"messages\": [HumanMessage(content=\"Hello, I'm really upset right now.\")]\n",
        "}\n",
        "\n",
        "# Stream the graph\n",
        "stream_graph(simulation, inputs, config, node_names=[\"simulated_user\", \"ai_assistant\"])"
      ]
    }
  ],
  "metadata": {
    "kernelspec": {
      "display_name": "langchain-kr-lwwSZlnu-py3.11",
      "language": "python",
      "name": "python3"
    },
    "language_info": {
      "codemirror_mode": {
        "name": "ipython",
        "version": 3
      },
      "file_extension": ".py",
      "mimetype": "text/x-python",
      "name": "python",
      "nbconvert_exporter": "python",
      "pygments_lexer": "ipython3",
      "version": "3.11.9"
    }
  },
  "nbformat": 4,
  "nbformat_minor": 5
}
